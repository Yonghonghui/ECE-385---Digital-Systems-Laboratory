{
 "cells": [
  {
   "cell_type": "code",
   "execution_count": 8,
   "id": "62ae572e",
   "metadata": {},
   "outputs": [
    {
     "name": "stdout",
     "output_type": "stream",
     "text": [
      "Number of unique colors: 768\n"
     ]
    }
   ],
   "source": [
    "from PIL import Image\n",
    "\n",
    "def count_unique_colors(image_path):\n",
    "    # Open the image\n",
    "    image = Image.open(image_path)\n",
    "\n",
    "    # Convert the image to RGB mode if it's not already in RGB\n",
    "    image = image.convert(\"RGB\")\n",
    "\n",
    "    # Get the color histogram of the image\n",
    "    histogram = image.histogram()\n",
    "\n",
    "    # Count the number of non-zero histogram values\n",
    "    unique_colors = sum(1 for value in histogram if value != 0)\n",
    "\n",
    "    return unique_colors\n",
    "\n",
    "# Example usage:\n",
    "image_path = \"background_1.jpg\"  # Replace this with the path to your JPG image\n",
    "num_colors = count_unique_colors(image_path)\n",
    "print(\"Number of unique colors:\", num_colors)\n"
   ]
  },
  {
   "cell_type": "code",
   "execution_count": 57,
   "id": "f7677617",
   "metadata": {},
   "outputs": [],
   "source": [
    "from PIL import Image\n",
    "\n",
    "def jpg_to_coe(image_path, output_path):\n",
    "    # Open the image\n",
    "    image = Image.open(image_path)\n",
    "\n",
    "    # Convert the image to RGB mode if it's not already in RGB\n",
    "    image = image.convert(\"RGB\")\n",
    "\n",
    "    # Get image dimensions\n",
    "    width, height = image.size\n",
    "\n",
    "    # Open the output COE file for writing\n",
    "    with open(output_path, 'w') as f:\n",
    "        # Write COE file header\n",
    "        f.write(\"memory_initialization_radix=16;\\n\")\n",
    "        f.write(\"memory_initialization_vector=\\n\")\n",
    "\n",
    "        # Iterate over each pixel in the image\n",
    "        for y in range(height):\n",
    "            for x in range(width):\n",
    "                # Get the RGB values of the pixel\n",
    "                r, g, b = image.getpixel((x, y))\n",
    "\n",
    "                # Convert RGB values to hexadecimal and write to COE file\n",
    "                hex_value = f\"{r:02X}{g:02X}{b:02X}\"  # Convert to hex format\n",
    "                f.write(hex_value)\n",
    "\n",
    "                # Add comma after each pixel value except the last one\n",
    "                if y != height - 1 or x != width - 1:\n",
    "                    f.write(\",\")\n",
    "\n",
    "            # Add newline after each row of pixels\n",
    "            if y != height - 1:\n",
    "                f.write(\"\\n\")\n",
    "\n",
    "        # Write COE file footer\n",
    "        f.write(\";\\n\")\n",
    "\n",
    "# Example usage:\n",
    "input_image_path = \"barrier_bear.jpg\"  # Replace this with the path to your JPG image\n",
    "output_coe_path = \"barrier_bear.coe\"  # Specify the output path for the COE file\n",
    "jpg_to_coe(input_image_path, output_coe_path)\n"
   ]
  },
  {
   "cell_type": "code",
   "execution_count": 15,
   "id": "51ad0ee5",
   "metadata": {},
   "outputs": [
    {
     "name": "stdout",
     "output_type": "stream",
     "text": [
      "Conversion completed successfully.\n"
     ]
    }
   ],
   "source": [
    "## New coe converter ##\n",
    "from PIL import Image\n",
    "\n",
    "def jpg_to_coe(jpg_file, coe_file):\n",
    "    # Open the JPG image\n",
    "    img = Image.open(jpg_file)\n",
    "    \n",
    "    # Get image dimensions\n",
    "    width, height = img.size\n",
    "    \n",
    "    # Open the COE file for writing\n",
    "    with open(coe_file, 'w') as f:\n",
    "        # Write COE file header\n",
    "        f.write(\"memory_initialization_radix=16;\\n\")\n",
    "        f.write(\"memory_initialization_vector=\\n\")\n",
    "        \n",
    "        # Loop through each pixel in the image\n",
    "        for y in range(height):\n",
    "            for x in range(width):\n",
    "                # Get RGB values of the pixel\n",
    "                r, g, b = img.getpixel((x, y))\n",
    "                \n",
    "                # Convert RGB values to hexadecimal\n",
    "                hex_value = '{:02X}{:02X}{:02X}'.format(r, g, b)\n",
    "                \n",
    "                # Write the hexadecimal value to the COE file\n",
    "                f.write(hex_value)\n",
    "                \n",
    "                # Add a comma if it's not the last pixel\n",
    "                if x != width - 1 or y != height - 1:\n",
    "                    f.write(\" \")\n",
    "                else:\n",
    "                    f.write(\";\")\n",
    "            \n",
    "            # Add a new line after each row of pixels\n",
    "            f.write(\"\\n\")\n",
    "    \n",
    "    print(\"Conversion completed successfully.\")\n",
    "\n",
    "# Example usage:\n",
    "# jpg_to_coe(\"Sprites/kun_1.jpg\", \"Sprites/kun_1.coe\")\n",
    "jpg_to_coe(\"dragon.jpg\", \"dragon.coe\")"
   ]
  },
  {
   "cell_type": "code",
   "execution_count": 17,
   "id": "95c1ed8d",
   "metadata": {},
   "outputs": [
    {
     "name": "stdout",
     "output_type": "stream",
     "text": [
      "Conversion completed successfully.\n"
     ]
    }
   ],
   "source": [
    "############# 4 bit  each #######\n",
    "from PIL import Image\n",
    "\n",
    "def scale_to_4bit(value):\n",
    "    # Scale the value from 0-255 to 0-15\n",
    "    return value // 16\n",
    "\n",
    "def jpg_to_coe(jpg_file, coe_file):\n",
    "    # Open the JPG image\n",
    "    img = Image.open(jpg_file)\n",
    "    \n",
    "    # Get image dimensions\n",
    "    width, height = img.size\n",
    "    \n",
    "    # Open the COE file for writing\n",
    "    with open(coe_file, 'w') as f:\n",
    "        # Write COE file header\n",
    "        f.write(\"memory_initialization_radix=16;\\n\")\n",
    "        f.write(\"memory_initialization_vector=\\n\")\n",
    "        \n",
    "        # Loop through each pixel in the image\n",
    "        for y in range(height):\n",
    "            for x in range(width):\n",
    "                # Get RGB values of the pixel\n",
    "                r, g, b = img.getpixel((x, y))\n",
    "                \n",
    "                # Convert RGB values to 4-bit (hexadecimal)\n",
    "                r4 = scale_to_4bit(r)\n",
    "                g4 = scale_to_4bit(g)\n",
    "                b4 = scale_to_4bit(b)\n",
    "                \n",
    "                # Combine 4-bit values into a single hexadecimal value\n",
    "                hex_value = '{:X}'.format((r4 << 8) | (g4 << 4) | b4)\n",
    "                \n",
    "                # Write the hexadecimal value to the COE file\n",
    "                f.write(hex_value)\n",
    "                \n",
    "                # Add a comma if it's not the last pixel\n",
    "                if x != width - 1 or y != height - 1:\n",
    "                    f.write(\", \")\n",
    "                else:\n",
    "                    f.write(\";\")\n",
    "            \n",
    "            # Add a new line after each row of pixels\n",
    "            f.write(\"\\n\")\n",
    "    \n",
    "    print(\"Conversion completed successfully.\")\n",
    "\n",
    "# Example usage:\n",
    "jpg_to_coe(\"dragon.jpg\", \"dragon.coe\")\n"
   ]
  },
  {
   "cell_type": "code",
   "execution_count": 44,
   "id": "6247ef65",
   "metadata": {
    "scrolled": false
   },
   "outputs": [
    {
     "name": "stdout",
     "output_type": "stream",
     "text": [
      "21866\n"
     ]
    },
    {
     "ename": "KeyError",
     "evalue": "16777215",
     "output_type": "error",
     "traceback": [
      "\u001b[1;31m---------------------------------------------------------------------------\u001b[0m",
      "\u001b[1;31mKeyError\u001b[0m                                  Traceback (most recent call last)",
      "Cell \u001b[1;32mIn[44], line 62\u001b[0m\n\u001b[0;32m     59\u001b[0m output_coe_file_path \u001b[38;5;241m=\u001b[39m \u001b[38;5;124m'\u001b[39m\u001b[38;5;124moutput_coe_file.coe\u001b[39m\u001b[38;5;124m'\u001b[39m  \u001b[38;5;66;03m# Replace with the desired output file path\u001b[39;00m\n\u001b[0;32m     61\u001b[0m \u001b[38;5;66;03m# Replace RGB values with index in COE file and write to a new file\u001b[39;00m\n\u001b[1;32m---> 62\u001b[0m replace_with_index_and_write(coe_file_path, lookup_palette, output_coe_file_path)\n",
      "Cell \u001b[1;32mIn[44], line 41\u001b[0m, in \u001b[0;36mreplace_with_index_and_write\u001b[1;34m(file_path, palette, output_file_path)\u001b[0m\n\u001b[0;32m     39\u001b[0m rgb_values \u001b[38;5;241m=\u001b[39m [rgb_value\u001b[38;5;241m.\u001b[39mstrip() \u001b[38;5;28;01mfor\u001b[39;00m rgb_value \u001b[38;5;129;01min\u001b[39;00m line\u001b[38;5;241m.\u001b[39msplit(\u001b[38;5;124m'\u001b[39m\u001b[38;5;124m,\u001b[39m\u001b[38;5;124m'\u001b[39m)]\n\u001b[0;32m     40\u001b[0m \u001b[38;5;28;01mif\u001b[39;00m rgb_values:  \u001b[38;5;66;03m# Skip empty lines\u001b[39;00m\n\u001b[1;32m---> 41\u001b[0m     replaced_line \u001b[38;5;241m=\u001b[39m \u001b[38;5;124m'\u001b[39m\u001b[38;5;124m \u001b[39m\u001b[38;5;124m'\u001b[39m\u001b[38;5;241m.\u001b[39mjoin([\u001b[38;5;124mf\u001b[39m\u001b[38;5;124m'\u001b[39m\u001b[38;5;132;01m{\u001b[39;00mpalette[\u001b[38;5;28mint\u001b[39m(\u001b[38;5;124m\"\u001b[39m\u001b[38;5;124m\"\u001b[39m\u001b[38;5;241m.\u001b[39mjoin(\u001b[38;5;28mfilter\u001b[39m(\u001b[38;5;28mstr\u001b[39m\u001b[38;5;241m.\u001b[39misalnum,\u001b[38;5;250m \u001b[39mrgb_value)),\u001b[38;5;250m \u001b[39m\u001b[38;5;241m16\u001b[39m)]\u001b[38;5;132;01m:\u001b[39;00m\u001b[38;5;124m02X\u001b[39m\u001b[38;5;132;01m}\u001b[39;00m\u001b[38;5;124m'\u001b[39m \u001b[38;5;28;01mfor\u001b[39;00m rgb_value \u001b[38;5;129;01min\u001b[39;00m rgb_values])\n\u001b[0;32m     42\u001b[0m     output_file\u001b[38;5;241m.\u001b[39mwrite(replaced_line \u001b[38;5;241m+\u001b[39m \u001b[38;5;124m'\u001b[39m\u001b[38;5;130;01m\\n\u001b[39;00m\u001b[38;5;124m'\u001b[39m)\n",
      "Cell \u001b[1;32mIn[44], line 41\u001b[0m, in \u001b[0;36m<listcomp>\u001b[1;34m(.0)\u001b[0m\n\u001b[0;32m     39\u001b[0m rgb_values \u001b[38;5;241m=\u001b[39m [rgb_value\u001b[38;5;241m.\u001b[39mstrip() \u001b[38;5;28;01mfor\u001b[39;00m rgb_value \u001b[38;5;129;01min\u001b[39;00m line\u001b[38;5;241m.\u001b[39msplit(\u001b[38;5;124m'\u001b[39m\u001b[38;5;124m,\u001b[39m\u001b[38;5;124m'\u001b[39m)]\n\u001b[0;32m     40\u001b[0m \u001b[38;5;28;01mif\u001b[39;00m rgb_values:  \u001b[38;5;66;03m# Skip empty lines\u001b[39;00m\n\u001b[1;32m---> 41\u001b[0m     replaced_line \u001b[38;5;241m=\u001b[39m \u001b[38;5;124m'\u001b[39m\u001b[38;5;124m \u001b[39m\u001b[38;5;124m'\u001b[39m\u001b[38;5;241m.\u001b[39mjoin([\u001b[38;5;124mf\u001b[39m\u001b[38;5;124m'\u001b[39m\u001b[38;5;132;01m{\u001b[39;00mpalette[\u001b[38;5;28mint\u001b[39m(\u001b[38;5;124m\"\u001b[39m\u001b[38;5;124m\"\u001b[39m\u001b[38;5;241m.\u001b[39mjoin(\u001b[38;5;28mfilter\u001b[39m(\u001b[38;5;28mstr\u001b[39m\u001b[38;5;241m.\u001b[39misalnum,\u001b[38;5;250m \u001b[39mrgb_value)),\u001b[38;5;250m \u001b[39m\u001b[38;5;241m16\u001b[39m)]\u001b[38;5;132;01m:\u001b[39;00m\u001b[38;5;124m02X\u001b[39m\u001b[38;5;132;01m}\u001b[39;00m\u001b[38;5;124m'\u001b[39m \u001b[38;5;28;01mfor\u001b[39;00m rgb_value \u001b[38;5;129;01min\u001b[39;00m rgb_values])\n\u001b[0;32m     42\u001b[0m     output_file\u001b[38;5;241m.\u001b[39mwrite(replaced_line \u001b[38;5;241m+\u001b[39m \u001b[38;5;124m'\u001b[39m\u001b[38;5;130;01m\\n\u001b[39;00m\u001b[38;5;124m'\u001b[39m)\n",
      "\u001b[1;31mKeyError\u001b[0m: 16777215"
     ]
    }
   ],
   "source": [
    "def parse_coe_file(file_path):\n",
    "    colors = set()\n",
    "    with open(file_path, 'r') as file:\n",
    "        found_data = False\n",
    "        for line in file:\n",
    "            if line.strip().startswith('memory_initialization_radix'):\n",
    "                continue\n",
    "            elif line.strip().startswith('memory_initialization_vector'):\n",
    "                found_data = True\n",
    "                continue\n",
    "            elif found_data:\n",
    "                # Extract RGB values from each line\n",
    "                rgb_values = line.strip().split(',')\n",
    "                for rgb_value in rgb_values:\n",
    "                    if rgb_value:\n",
    "                        r = int(rgb_value[0:2], 16)\n",
    "                        g = int(rgb_value[2:4], 16)\n",
    "                        b = int(rgb_value[4:6], 16)\n",
    "                        if (r,g,b) not in colors:\n",
    "                            colors.add((r, g, b))\n",
    "#                             print((r,g,b))\n",
    "    return colors\n",
    "\n",
    "def create_lookup_palette(colors):\n",
    "    palette = {}\n",
    "    for index, color in enumerate(colors):\n",
    "#         print(color)\n",
    "        palette[color] = index\n",
    "    return palette\n",
    "\n",
    "def replace_with_index_and_write(file_path, palette, output_file_path):\n",
    "    with open(file_path, 'r') as file:\n",
    "        with open(output_file_path, 'w') as output_file:\n",
    "            for line_num, line in enumerate(file):\n",
    "                if line_num < 2 or line.startswith(';'):\n",
    "                    output_file.write(line)\n",
    "                else:\n",
    "                    # Extract RGB values and replace with index\n",
    "                    rgb_values = [rgb_value.strip() for rgb_value in line.split(',')]\n",
    "                    if rgb_values:  # Skip empty lines\n",
    "                        replaced_line = ' '.join([f'{palette[int(\"\".join(filter(str.isalnum, rgb_value)), 16)]:02X}' for rgb_value in rgb_values])\n",
    "                        output_file.write(replaced_line + '\\n')\n",
    "\n",
    "\n",
    "\n",
    "\n",
    "\n",
    "\n",
    "# Parse COE file and find unique colors\n",
    "coe_file_path = 'Background_2.coe'  # Replace with the path to your COE file\n",
    "unique_colors = parse_coe_file(coe_file_path)\n",
    "# print(len(unique_colors))\n",
    "# print(unique_colors)\n",
    "# print(unique_colors)\n",
    "# Create lookup palette\n",
    "lookup_palette = create_lookup_palette(unique_colors)\n",
    "# print(lookup_palette)\n",
    "# Specify the output COE file path\n",
    "output_coe_file_path = 'output_coe_file.coe'  # Replace with the desired output file path\n",
    "\n",
    "# Replace RGB values with index in COE file and write to a new file\n",
    "replace_with_index_and_write(coe_file_path, lookup_palette, output_coe_file_path)\n"
   ]
  },
  {
   "cell_type": "code",
   "execution_count": 37,
   "id": "df00385d",
   "metadata": {},
   "outputs": [
    {
     "name": "stdout",
     "output_type": "stream",
     "text": [
      "(127, 187, 224)\n"
     ]
    }
   ],
   "source": [
    "rgb_value= \"7FBBE0\"\n",
    "r = int(rgb_value[0:2], 16)\n",
    "g = int(rgb_value[2:4], 16)\n",
    "b = int(rgb_value[4:6], 16)\n",
    "print((r, g, b))"
   ]
  },
  {
   "cell_type": "code",
   "execution_count": null,
   "id": "460de836",
   "metadata": {},
   "outputs": [],
   "source": []
  }
 ],
 "metadata": {
  "kernelspec": {
   "display_name": "Python 3 (ipykernel)",
   "language": "python",
   "name": "python3"
  },
  "language_info": {
   "codemirror_mode": {
    "name": "ipython",
    "version": 3
   },
   "file_extension": ".py",
   "mimetype": "text/x-python",
   "name": "python",
   "nbconvert_exporter": "python",
   "pygments_lexer": "ipython3",
   "version": "3.11.5"
  }
 },
 "nbformat": 4,
 "nbformat_minor": 5
}
